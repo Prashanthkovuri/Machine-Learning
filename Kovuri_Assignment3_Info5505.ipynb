{
 "cells": [
  {
   "cell_type": "code",
   "execution_count": 4,
   "metadata": {},
   "outputs": [
    {
     "data": {
      "text/html": [
       "<div>\n",
       "<style scoped>\n",
       "    .dataframe tbody tr th:only-of-type {\n",
       "        vertical-align: middle;\n",
       "    }\n",
       "\n",
       "    .dataframe tbody tr th {\n",
       "        vertical-align: top;\n",
       "    }\n",
       "\n",
       "    .dataframe thead th {\n",
       "        text-align: right;\n",
       "    }\n",
       "</style>\n",
       "<table border=\"1\" class=\"dataframe\">\n",
       "  <thead>\n",
       "    <tr style=\"text-align: right;\">\n",
       "      <th></th>\n",
       "      <th>ID</th>\n",
       "      <th>Age_mean</th>\n",
       "      <th>Albumin_max</th>\n",
       "      <th>Albumin_median</th>\n",
       "      <th>Albumin_min</th>\n",
       "      <th>Albumin_range</th>\n",
       "      <th>ALSFRS_slope</th>\n",
       "      <th>ALSFRS_Total_max</th>\n",
       "      <th>ALSFRS_Total_median</th>\n",
       "      <th>ALSFRS_Total_min</th>\n",
       "      <th>...</th>\n",
       "      <th>trunk_min</th>\n",
       "      <th>trunk_range</th>\n",
       "      <th>Urine.Ph_max</th>\n",
       "      <th>Urine.Ph_median</th>\n",
       "      <th>Urine.Ph_min</th>\n",
       "      <th>Urine.Ph_range</th>\n",
       "      <th>White.Blood.Cell..WBC._max</th>\n",
       "      <th>White.Blood.Cell..WBC._median</th>\n",
       "      <th>White.Blood.Cell..WBC._min</th>\n",
       "      <th>White.Blood.Cell..WBC._range</th>\n",
       "    </tr>\n",
       "  </thead>\n",
       "  <tbody>\n",
       "    <tr>\n",
       "      <th>0</th>\n",
       "      <td>3</td>\n",
       "      <td>65.906849</td>\n",
       "      <td>46.0</td>\n",
       "      <td>44.0</td>\n",
       "      <td>43</td>\n",
       "      <td>0.024590</td>\n",
       "      <td>-1.767329</td>\n",
       "      <td>33</td>\n",
       "      <td>5.0</td>\n",
       "      <td>2</td>\n",
       "      <td>...</td>\n",
       "      <td>0</td>\n",
       "      <td>0.006440</td>\n",
       "      <td>6.5</td>\n",
       "      <td>6.00</td>\n",
       "      <td>6.0</td>\n",
       "      <td>0.004098</td>\n",
       "      <td>8.57</td>\n",
       "      <td>7.680</td>\n",
       "      <td>6.60</td>\n",
       "      <td>0.016148</td>\n",
       "    </tr>\n",
       "    <tr>\n",
       "      <th>1</th>\n",
       "      <td>4</td>\n",
       "      <td>54.000000</td>\n",
       "      <td>39.0</td>\n",
       "      <td>36.0</td>\n",
       "      <td>33</td>\n",
       "      <td>0.013100</td>\n",
       "      <td>-1.351852</td>\n",
       "      <td>32</td>\n",
       "      <td>23.0</td>\n",
       "      <td>14</td>\n",
       "      <td>...</td>\n",
       "      <td>0</td>\n",
       "      <td>0.013100</td>\n",
       "      <td>6.5</td>\n",
       "      <td>5.50</td>\n",
       "      <td>5.0</td>\n",
       "      <td>0.003275</td>\n",
       "      <td>8.04</td>\n",
       "      <td>6.620</td>\n",
       "      <td>4.97</td>\n",
       "      <td>0.006703</td>\n",
       "    </tr>\n",
       "    <tr>\n",
       "      <th>2</th>\n",
       "      <td>5</td>\n",
       "      <td>56.394521</td>\n",
       "      <td>46.0</td>\n",
       "      <td>43.0</td>\n",
       "      <td>39</td>\n",
       "      <td>0.009736</td>\n",
       "      <td>-0.412429</td>\n",
       "      <td>15</td>\n",
       "      <td>10.0</td>\n",
       "      <td>2</td>\n",
       "      <td>...</td>\n",
       "      <td>0</td>\n",
       "      <td>0.000000</td>\n",
       "      <td>7.5</td>\n",
       "      <td>6.75</td>\n",
       "      <td>6.0</td>\n",
       "      <td>0.003456</td>\n",
       "      <td>8.90</td>\n",
       "      <td>7.160</td>\n",
       "      <td>5.01</td>\n",
       "      <td>0.005410</td>\n",
       "    </tr>\n",
       "    <tr>\n",
       "      <th>3</th>\n",
       "      <td>6</td>\n",
       "      <td>72.619178</td>\n",
       "      <td>50.0</td>\n",
       "      <td>42.5</td>\n",
       "      <td>41</td>\n",
       "      <td>0.092784</td>\n",
       "      <td>-0.383403</td>\n",
       "      <td>34</td>\n",
       "      <td>24.0</td>\n",
       "      <td>21</td>\n",
       "      <td>...</td>\n",
       "      <td>5</td>\n",
       "      <td>0.007752</td>\n",
       "      <td>7.5</td>\n",
       "      <td>7.00</td>\n",
       "      <td>6.0</td>\n",
       "      <td>0.024194</td>\n",
       "      <td>12.38</td>\n",
       "      <td>7.905</td>\n",
       "      <td>4.96</td>\n",
       "      <td>0.076495</td>\n",
       "    </tr>\n",
       "    <tr>\n",
       "      <th>4</th>\n",
       "      <td>9</td>\n",
       "      <td>65.000000</td>\n",
       "      <td>45.0</td>\n",
       "      <td>42.0</td>\n",
       "      <td>36</td>\n",
       "      <td>0.021327</td>\n",
       "      <td>0.000000</td>\n",
       "      <td>37</td>\n",
       "      <td>37.0</td>\n",
       "      <td>37</td>\n",
       "      <td>...</td>\n",
       "      <td>7</td>\n",
       "      <td>0.000000</td>\n",
       "      <td>6.0</td>\n",
       "      <td>5.50</td>\n",
       "      <td>5.0</td>\n",
       "      <td>0.002370</td>\n",
       "      <td>11.53</td>\n",
       "      <td>9.290</td>\n",
       "      <td>7.94</td>\n",
       "      <td>0.008507</td>\n",
       "    </tr>\n",
       "  </tbody>\n",
       "</table>\n",
       "<p>5 rows × 131 columns</p>\n",
       "</div>"
      ],
      "text/plain": [
       "   ID   Age_mean  Albumin_max  Albumin_median  Albumin_min  Albumin_range  \\\n",
       "0   3  65.906849         46.0            44.0           43       0.024590   \n",
       "1   4  54.000000         39.0            36.0           33       0.013100   \n",
       "2   5  56.394521         46.0            43.0           39       0.009736   \n",
       "3   6  72.619178         50.0            42.5           41       0.092784   \n",
       "4   9  65.000000         45.0            42.0           36       0.021327   \n",
       "\n",
       "   ALSFRS_slope  ALSFRS_Total_max  ALSFRS_Total_median  ALSFRS_Total_min  ...  \\\n",
       "0     -1.767329                33                  5.0                 2  ...   \n",
       "1     -1.351852                32                 23.0                14  ...   \n",
       "2     -0.412429                15                 10.0                 2  ...   \n",
       "3     -0.383403                34                 24.0                21  ...   \n",
       "4      0.000000                37                 37.0                37  ...   \n",
       "\n",
       "   trunk_min  trunk_range  Urine.Ph_max  Urine.Ph_median  Urine.Ph_min  \\\n",
       "0          0     0.006440           6.5             6.00           6.0   \n",
       "1          0     0.013100           6.5             5.50           5.0   \n",
       "2          0     0.000000           7.5             6.75           6.0   \n",
       "3          5     0.007752           7.5             7.00           6.0   \n",
       "4          7     0.000000           6.0             5.50           5.0   \n",
       "\n",
       "   Urine.Ph_range  White.Blood.Cell..WBC._max  White.Blood.Cell..WBC._median  \\\n",
       "0        0.004098                        8.57                          7.680   \n",
       "1        0.003275                        8.04                          6.620   \n",
       "2        0.003456                        8.90                          7.160   \n",
       "3        0.024194                       12.38                          7.905   \n",
       "4        0.002370                       11.53                          9.290   \n",
       "\n",
       "   White.Blood.Cell..WBC._min  White.Blood.Cell..WBC._range  \n",
       "0                        6.60                      0.016148  \n",
       "1                        4.97                      0.006703  \n",
       "2                        5.01                      0.005410  \n",
       "3                        4.96                      0.076495  \n",
       "4                        7.94                      0.008507  \n",
       "\n",
       "[5 rows x 131 columns]"
      ]
     },
     "execution_count": 4,
     "metadata": {},
     "output_type": "execute_result"
    }
   ],
   "source": [
    "import pandas as pd\n",
    "import numpy as np\n",
    "import matplotlib.pyplot as plot\n",
    "import seaborn as sns\n",
    "%matplotlib inline\n",
    "\n",
    "# Loading and prepare the data\n",
    "als = pd.read_csv('ALS_TestingData_78.csv')\n",
    "als.head()"
   ]
  },
  {
   "cell_type": "code",
   "execution_count": 5,
   "metadata": {},
   "outputs": [
    {
     "name": "stdout",
     "output_type": "stream",
     "text": [
      "<class 'pandas.core.frame.DataFrame'>\n",
      "RangeIndex: 78 entries, 0 to 77\n",
      "Columns: 131 entries, ID to White.Blood.Cell..WBC._range\n",
      "dtypes: float64(92), int64(39)\n",
      "memory usage: 80.0 KB\n"
     ]
    }
   ],
   "source": [
    "als.info()"
   ]
  },
  {
   "cell_type": "code",
   "execution_count": 6,
   "metadata": {},
   "outputs": [
    {
     "data": {
      "text/html": [
       "<div>\n",
       "<style scoped>\n",
       "    .dataframe tbody tr th:only-of-type {\n",
       "        vertical-align: middle;\n",
       "    }\n",
       "\n",
       "    .dataframe tbody tr th {\n",
       "        vertical-align: top;\n",
       "    }\n",
       "\n",
       "    .dataframe thead th {\n",
       "        text-align: right;\n",
       "    }\n",
       "</style>\n",
       "<table border=\"1\" class=\"dataframe\">\n",
       "  <thead>\n",
       "    <tr style=\"text-align: right;\">\n",
       "      <th></th>\n",
       "      <th>ID</th>\n",
       "      <th>Age_mean</th>\n",
       "      <th>Albumin_max</th>\n",
       "      <th>Albumin_median</th>\n",
       "      <th>Albumin_min</th>\n",
       "      <th>Albumin_range</th>\n",
       "      <th>ALSFRS_slope</th>\n",
       "      <th>ALSFRS_Total_max</th>\n",
       "      <th>ALSFRS_Total_median</th>\n",
       "      <th>ALSFRS_Total_min</th>\n",
       "      <th>...</th>\n",
       "      <th>trunk_min</th>\n",
       "      <th>trunk_range</th>\n",
       "      <th>Urine.Ph_max</th>\n",
       "      <th>Urine.Ph_median</th>\n",
       "      <th>Urine.Ph_min</th>\n",
       "      <th>Urine.Ph_range</th>\n",
       "      <th>White.Blood.Cell..WBC._max</th>\n",
       "      <th>White.Blood.Cell..WBC._median</th>\n",
       "      <th>White.Blood.Cell..WBC._min</th>\n",
       "      <th>White.Blood.Cell..WBC._range</th>\n",
       "    </tr>\n",
       "  </thead>\n",
       "  <tbody>\n",
       "    <tr>\n",
       "      <th>count</th>\n",
       "      <td>78.000000</td>\n",
       "      <td>78.000000</td>\n",
       "      <td>78.000000</td>\n",
       "      <td>78.000000</td>\n",
       "      <td>78.000000</td>\n",
       "      <td>78.000000</td>\n",
       "      <td>78.000000</td>\n",
       "      <td>78.000000</td>\n",
       "      <td>78.000000</td>\n",
       "      <td>78.000000</td>\n",
       "      <td>...</td>\n",
       "      <td>78.000000</td>\n",
       "      <td>78.000000</td>\n",
       "      <td>78.000000</td>\n",
       "      <td>78.000000</td>\n",
       "      <td>78.000000</td>\n",
       "      <td>78.000000</td>\n",
       "      <td>78.000000</td>\n",
       "      <td>78.000000</td>\n",
       "      <td>78.000000</td>\n",
       "      <td>78.000000</td>\n",
       "    </tr>\n",
       "    <tr>\n",
       "      <th>mean</th>\n",
       "      <td>51.589744</td>\n",
       "      <td>56.025571</td>\n",
       "      <td>45.256410</td>\n",
       "      <td>42.173077</td>\n",
       "      <td>38.910256</td>\n",
       "      <td>0.016753</td>\n",
       "      <td>-0.825866</td>\n",
       "      <td>29.807692</td>\n",
       "      <td>21.544872</td>\n",
       "      <td>14.705128</td>\n",
       "      <td>...</td>\n",
       "      <td>1.871795</td>\n",
       "      <td>0.007133</td>\n",
       "      <td>7.076923</td>\n",
       "      <td>6.192308</td>\n",
       "      <td>5.564103</td>\n",
       "      <td>0.004544</td>\n",
       "      <td>9.341795</td>\n",
       "      <td>6.789103</td>\n",
       "      <td>5.286026</td>\n",
       "      <td>0.012203</td>\n",
       "    </tr>\n",
       "    <tr>\n",
       "      <th>std</th>\n",
       "      <td>28.468910</td>\n",
       "      <td>10.514606</td>\n",
       "      <td>3.056549</td>\n",
       "      <td>3.083341</td>\n",
       "      <td>3.977815</td>\n",
       "      <td>0.013419</td>\n",
       "      <td>0.649497</td>\n",
       "      <td>6.107389</td>\n",
       "      <td>8.995015</td>\n",
       "      <td>9.532050</td>\n",
       "      <td>...</td>\n",
       "      <td>2.211886</td>\n",
       "      <td>0.003980</td>\n",
       "      <td>0.674570</td>\n",
       "      <td>0.572536</td>\n",
       "      <td>0.458392</td>\n",
       "      <td>0.004776</td>\n",
       "      <td>2.939529</td>\n",
       "      <td>1.683264</td>\n",
       "      <td>1.513861</td>\n",
       "      <td>0.014724</td>\n",
       "    </tr>\n",
       "    <tr>\n",
       "      <th>min</th>\n",
       "      <td>3.000000</td>\n",
       "      <td>24.583562</td>\n",
       "      <td>38.000000</td>\n",
       "      <td>35.000000</td>\n",
       "      <td>25.000000</td>\n",
       "      <td>0.004138</td>\n",
       "      <td>-3.041667</td>\n",
       "      <td>13.000000</td>\n",
       "      <td>2.000000</td>\n",
       "      <td>0.000000</td>\n",
       "      <td>...</td>\n",
       "      <td>0.000000</td>\n",
       "      <td>0.000000</td>\n",
       "      <td>6.000000</td>\n",
       "      <td>5.500000</td>\n",
       "      <td>5.000000</td>\n",
       "      <td>0.000000</td>\n",
       "      <td>4.110000</td>\n",
       "      <td>3.240000</td>\n",
       "      <td>1.430000</td>\n",
       "      <td>0.003078</td>\n",
       "    </tr>\n",
       "    <tr>\n",
       "      <th>25%</th>\n",
       "      <td>27.250000</td>\n",
       "      <td>51.000000</td>\n",
       "      <td>43.000000</td>\n",
       "      <td>40.000000</td>\n",
       "      <td>36.250000</td>\n",
       "      <td>0.011006</td>\n",
       "      <td>-1.315287</td>\n",
       "      <td>26.000000</td>\n",
       "      <td>16.500000</td>\n",
       "      <td>8.000000</td>\n",
       "      <td>...</td>\n",
       "      <td>0.000000</td>\n",
       "      <td>0.004490</td>\n",
       "      <td>6.500000</td>\n",
       "      <td>5.812500</td>\n",
       "      <td>5.000000</td>\n",
       "      <td>0.002278</td>\n",
       "      <td>7.767500</td>\n",
       "      <td>5.878750</td>\n",
       "      <td>4.330000</td>\n",
       "      <td>0.005658</td>\n",
       "    </tr>\n",
       "    <tr>\n",
       "      <th>50%</th>\n",
       "      <td>51.500000</td>\n",
       "      <td>57.000000</td>\n",
       "      <td>45.500000</td>\n",
       "      <td>42.250000</td>\n",
       "      <td>39.000000</td>\n",
       "      <td>0.013761</td>\n",
       "      <td>-0.679723</td>\n",
       "      <td>31.000000</td>\n",
       "      <td>22.000000</td>\n",
       "      <td>14.000000</td>\n",
       "      <td>...</td>\n",
       "      <td>1.000000</td>\n",
       "      <td>0.006365</td>\n",
       "      <td>7.000000</td>\n",
       "      <td>6.000000</td>\n",
       "      <td>5.500000</td>\n",
       "      <td>0.003390</td>\n",
       "      <td>8.750000</td>\n",
       "      <td>6.720000</td>\n",
       "      <td>5.320000</td>\n",
       "      <td>0.008402</td>\n",
       "    </tr>\n",
       "    <tr>\n",
       "      <th>75%</th>\n",
       "      <td>74.750000</td>\n",
       "      <td>62.180822</td>\n",
       "      <td>47.000000</td>\n",
       "      <td>44.000000</td>\n",
       "      <td>41.000000</td>\n",
       "      <td>0.018015</td>\n",
       "      <td>-0.390660</td>\n",
       "      <td>34.000000</td>\n",
       "      <td>28.000000</td>\n",
       "      <td>21.000000</td>\n",
       "      <td>...</td>\n",
       "      <td>3.000000</td>\n",
       "      <td>0.009639</td>\n",
       "      <td>7.500000</td>\n",
       "      <td>6.500000</td>\n",
       "      <td>6.000000</td>\n",
       "      <td>0.004715</td>\n",
       "      <td>10.690000</td>\n",
       "      <td>7.730000</td>\n",
       "      <td>6.125000</td>\n",
       "      <td>0.012471</td>\n",
       "    </tr>\n",
       "    <tr>\n",
       "      <th>max</th>\n",
       "      <td>100.000000</td>\n",
       "      <td>77.000000</td>\n",
       "      <td>51.000000</td>\n",
       "      <td>49.000000</td>\n",
       "      <td>47.000000</td>\n",
       "      <td>0.092784</td>\n",
       "      <td>0.325893</td>\n",
       "      <td>40.000000</td>\n",
       "      <td>39.000000</td>\n",
       "      <td>37.000000</td>\n",
       "      <td>...</td>\n",
       "      <td>7.000000</td>\n",
       "      <td>0.019048</td>\n",
       "      <td>9.000000</td>\n",
       "      <td>7.500000</td>\n",
       "      <td>7.000000</td>\n",
       "      <td>0.034483</td>\n",
       "      <td>22.490000</td>\n",
       "      <td>11.795000</td>\n",
       "      <td>9.500000</td>\n",
       "      <td>0.092045</td>\n",
       "    </tr>\n",
       "  </tbody>\n",
       "</table>\n",
       "<p>8 rows × 131 columns</p>\n",
       "</div>"
      ],
      "text/plain": [
       "               ID   Age_mean  Albumin_max  Albumin_median  Albumin_min  \\\n",
       "count   78.000000  78.000000    78.000000       78.000000    78.000000   \n",
       "mean    51.589744  56.025571    45.256410       42.173077    38.910256   \n",
       "std     28.468910  10.514606     3.056549        3.083341     3.977815   \n",
       "min      3.000000  24.583562    38.000000       35.000000    25.000000   \n",
       "25%     27.250000  51.000000    43.000000       40.000000    36.250000   \n",
       "50%     51.500000  57.000000    45.500000       42.250000    39.000000   \n",
       "75%     74.750000  62.180822    47.000000       44.000000    41.000000   \n",
       "max    100.000000  77.000000    51.000000       49.000000    47.000000   \n",
       "\n",
       "       Albumin_range  ALSFRS_slope  ALSFRS_Total_max  ALSFRS_Total_median  \\\n",
       "count      78.000000     78.000000         78.000000            78.000000   \n",
       "mean        0.016753     -0.825866         29.807692            21.544872   \n",
       "std         0.013419      0.649497          6.107389             8.995015   \n",
       "min         0.004138     -3.041667         13.000000             2.000000   \n",
       "25%         0.011006     -1.315287         26.000000            16.500000   \n",
       "50%         0.013761     -0.679723         31.000000            22.000000   \n",
       "75%         0.018015     -0.390660         34.000000            28.000000   \n",
       "max         0.092784      0.325893         40.000000            39.000000   \n",
       "\n",
       "       ALSFRS_Total_min  ...  trunk_min  trunk_range  Urine.Ph_max  \\\n",
       "count         78.000000  ...  78.000000    78.000000     78.000000   \n",
       "mean          14.705128  ...   1.871795     0.007133      7.076923   \n",
       "std            9.532050  ...   2.211886     0.003980      0.674570   \n",
       "min            0.000000  ...   0.000000     0.000000      6.000000   \n",
       "25%            8.000000  ...   0.000000     0.004490      6.500000   \n",
       "50%           14.000000  ...   1.000000     0.006365      7.000000   \n",
       "75%           21.000000  ...   3.000000     0.009639      7.500000   \n",
       "max           37.000000  ...   7.000000     0.019048      9.000000   \n",
       "\n",
       "       Urine.Ph_median  Urine.Ph_min  Urine.Ph_range  \\\n",
       "count        78.000000     78.000000       78.000000   \n",
       "mean          6.192308      5.564103        0.004544   \n",
       "std           0.572536      0.458392        0.004776   \n",
       "min           5.500000      5.000000        0.000000   \n",
       "25%           5.812500      5.000000        0.002278   \n",
       "50%           6.000000      5.500000        0.003390   \n",
       "75%           6.500000      6.000000        0.004715   \n",
       "max           7.500000      7.000000        0.034483   \n",
       "\n",
       "       White.Blood.Cell..WBC._max  White.Blood.Cell..WBC._median  \\\n",
       "count                   78.000000                      78.000000   \n",
       "mean                     9.341795                       6.789103   \n",
       "std                      2.939529                       1.683264   \n",
       "min                      4.110000                       3.240000   \n",
       "25%                      7.767500                       5.878750   \n",
       "50%                      8.750000                       6.720000   \n",
       "75%                     10.690000                       7.730000   \n",
       "max                     22.490000                      11.795000   \n",
       "\n",
       "       White.Blood.Cell..WBC._min  White.Blood.Cell..WBC._range  \n",
       "count                   78.000000                     78.000000  \n",
       "mean                     5.286026                      0.012203  \n",
       "std                      1.513861                      0.014724  \n",
       "min                      1.430000                      0.003078  \n",
       "25%                      4.330000                      0.005658  \n",
       "50%                      5.320000                      0.008402  \n",
       "75%                      6.125000                      0.012471  \n",
       "max                      9.500000                      0.092045  \n",
       "\n",
       "[8 rows x 131 columns]"
      ]
     },
     "execution_count": 6,
     "metadata": {},
     "output_type": "execute_result"
    }
   ],
   "source": [
    "als.describe()"
   ]
  },
  {
   "cell_type": "code",
   "execution_count": 7,
   "metadata": {},
   "outputs": [
    {
     "data": {
      "text/html": [
       "<div>\n",
       "<style scoped>\n",
       "    .dataframe tbody tr th:only-of-type {\n",
       "        vertical-align: middle;\n",
       "    }\n",
       "\n",
       "    .dataframe tbody tr th {\n",
       "        vertical-align: top;\n",
       "    }\n",
       "\n",
       "    .dataframe thead th {\n",
       "        text-align: right;\n",
       "    }\n",
       "</style>\n",
       "<table border=\"1\" class=\"dataframe\">\n",
       "  <thead>\n",
       "    <tr style=\"text-align: right;\">\n",
       "      <th></th>\n",
       "      <th>ID</th>\n",
       "      <th>Age_mean</th>\n",
       "      <th>Albumin_max</th>\n",
       "      <th>Albumin_median</th>\n",
       "      <th>Albumin_min</th>\n",
       "      <th>Albumin_range</th>\n",
       "      <th>ALSFRS_slope</th>\n",
       "      <th>ALSFRS_Total_max</th>\n",
       "      <th>ALSFRS_Total_median</th>\n",
       "      <th>ALSFRS_Total_min</th>\n",
       "      <th>...</th>\n",
       "      <th>Sodium_min</th>\n",
       "      <th>Sodium_range</th>\n",
       "      <th>SubjectID</th>\n",
       "      <th>trunk_max</th>\n",
       "      <th>trunk_median</th>\n",
       "      <th>trunk_min</th>\n",
       "      <th>trunk_range</th>\n",
       "      <th>Urine.Ph_max</th>\n",
       "      <th>Urine.Ph_median</th>\n",
       "      <th>Urine.Ph_min</th>\n",
       "    </tr>\n",
       "  </thead>\n",
       "  <tbody>\n",
       "    <tr>\n",
       "      <th>0</th>\n",
       "      <td>1</td>\n",
       "      <td>65</td>\n",
       "      <td>57.0</td>\n",
       "      <td>40.5</td>\n",
       "      <td>38.0</td>\n",
       "      <td>0.066202</td>\n",
       "      <td>-0.965608</td>\n",
       "      <td>30</td>\n",
       "      <td>28.0</td>\n",
       "      <td>22</td>\n",
       "      <td>...</td>\n",
       "      <td>143.0</td>\n",
       "      <td>0.017422</td>\n",
       "      <td>533</td>\n",
       "      <td>8</td>\n",
       "      <td>7.0</td>\n",
       "      <td>7</td>\n",
       "      <td>0.002646</td>\n",
       "      <td>6.0</td>\n",
       "      <td>6.0</td>\n",
       "      <td>6.0</td>\n",
       "    </tr>\n",
       "    <tr>\n",
       "      <th>1</th>\n",
       "      <td>2</td>\n",
       "      <td>48</td>\n",
       "      <td>45.0</td>\n",
       "      <td>41.0</td>\n",
       "      <td>39.0</td>\n",
       "      <td>0.010453</td>\n",
       "      <td>-0.921717</td>\n",
       "      <td>37</td>\n",
       "      <td>33.0</td>\n",
       "      <td>21</td>\n",
       "      <td>...</td>\n",
       "      <td>136.0</td>\n",
       "      <td>0.010453</td>\n",
       "      <td>649</td>\n",
       "      <td>8</td>\n",
       "      <td>7.0</td>\n",
       "      <td>5</td>\n",
       "      <td>0.005386</td>\n",
       "      <td>7.0</td>\n",
       "      <td>5.0</td>\n",
       "      <td>5.0</td>\n",
       "    </tr>\n",
       "    <tr>\n",
       "      <th>2</th>\n",
       "      <td>3</td>\n",
       "      <td>38</td>\n",
       "      <td>50.0</td>\n",
       "      <td>47.0</td>\n",
       "      <td>45.0</td>\n",
       "      <td>0.008929</td>\n",
       "      <td>-0.914787</td>\n",
       "      <td>24</td>\n",
       "      <td>14.0</td>\n",
       "      <td>10</td>\n",
       "      <td>...</td>\n",
       "      <td>140.0</td>\n",
       "      <td>0.008929</td>\n",
       "      <td>1234</td>\n",
       "      <td>5</td>\n",
       "      <td>0.0</td>\n",
       "      <td>0</td>\n",
       "      <td>0.008929</td>\n",
       "      <td>6.0</td>\n",
       "      <td>5.0</td>\n",
       "      <td>5.0</td>\n",
       "    </tr>\n",
       "    <tr>\n",
       "      <th>3</th>\n",
       "      <td>4</td>\n",
       "      <td>63</td>\n",
       "      <td>47.0</td>\n",
       "      <td>44.0</td>\n",
       "      <td>41.0</td>\n",
       "      <td>0.012111</td>\n",
       "      <td>-0.598361</td>\n",
       "      <td>30</td>\n",
       "      <td>29.0</td>\n",
       "      <td>24</td>\n",
       "      <td>...</td>\n",
       "      <td>138.0</td>\n",
       "      <td>0.012469</td>\n",
       "      <td>2492</td>\n",
       "      <td>5</td>\n",
       "      <td>5.0</td>\n",
       "      <td>3</td>\n",
       "      <td>0.004988</td>\n",
       "      <td>7.0</td>\n",
       "      <td>6.0</td>\n",
       "      <td>5.0</td>\n",
       "    </tr>\n",
       "    <tr>\n",
       "      <th>4</th>\n",
       "      <td>5</td>\n",
       "      <td>63</td>\n",
       "      <td>47.0</td>\n",
       "      <td>45.5</td>\n",
       "      <td>42.0</td>\n",
       "      <td>0.008292</td>\n",
       "      <td>-0.444039</td>\n",
       "      <td>32</td>\n",
       "      <td>27.5</td>\n",
       "      <td>20</td>\n",
       "      <td>...</td>\n",
       "      <td>138.0</td>\n",
       "      <td>0.008292</td>\n",
       "      <td>2956</td>\n",
       "      <td>6</td>\n",
       "      <td>4.0</td>\n",
       "      <td>1</td>\n",
       "      <td>0.008489</td>\n",
       "      <td>6.0</td>\n",
       "      <td>5.0</td>\n",
       "      <td>5.0</td>\n",
       "    </tr>\n",
       "  </tbody>\n",
       "</table>\n",
       "<p>5 rows × 101 columns</p>\n",
       "</div>"
      ],
      "text/plain": [
       "   ID  Age_mean  Albumin_max  Albumin_median  Albumin_min  Albumin_range  \\\n",
       "0   1        65         57.0            40.5         38.0       0.066202   \n",
       "1   2        48         45.0            41.0         39.0       0.010453   \n",
       "2   3        38         50.0            47.0         45.0       0.008929   \n",
       "3   4        63         47.0            44.0         41.0       0.012111   \n",
       "4   5        63         47.0            45.5         42.0       0.008292   \n",
       "\n",
       "   ALSFRS_slope  ALSFRS_Total_max  ALSFRS_Total_median  ALSFRS_Total_min  ...  \\\n",
       "0     -0.965608                30                 28.0                22  ...   \n",
       "1     -0.921717                37                 33.0                21  ...   \n",
       "2     -0.914787                24                 14.0                10  ...   \n",
       "3     -0.598361                30                 29.0                24  ...   \n",
       "4     -0.444039                32                 27.5                20  ...   \n",
       "\n",
       "   Sodium_min  Sodium_range  SubjectID  trunk_max  trunk_median  trunk_min  \\\n",
       "0       143.0      0.017422        533          8           7.0          7   \n",
       "1       136.0      0.010453        649          8           7.0          5   \n",
       "2       140.0      0.008929       1234          5           0.0          0   \n",
       "3       138.0      0.012469       2492          5           5.0          3   \n",
       "4       138.0      0.008292       2956          6           4.0          1   \n",
       "\n",
       "   trunk_range  Urine.Ph_max  Urine.Ph_median  Urine.Ph_min  \n",
       "0     0.002646           6.0              6.0           6.0  \n",
       "1     0.005386           7.0              5.0           5.0  \n",
       "2     0.008929           6.0              5.0           5.0  \n",
       "3     0.004988           7.0              6.0           5.0  \n",
       "4     0.008489           6.0              5.0           5.0  \n",
       "\n",
       "[5 rows x 101 columns]"
      ]
     },
     "execution_count": 7,
     "metadata": {},
     "output_type": "execute_result"
    }
   ],
   "source": [
    "als_trd = pd.read_csv('ALS_TrainingData_2223.csv')\n",
    "als_trd.head()"
   ]
  },
  {
   "cell_type": "code",
   "execution_count": 8,
   "metadata": {},
   "outputs": [
    {
     "name": "stdout",
     "output_type": "stream",
     "text": [
      "<class 'pandas.core.frame.DataFrame'>\n",
      "RangeIndex: 2223 entries, 0 to 2222\n",
      "Columns: 101 entries, ID to Urine.Ph_min\n",
      "dtypes: float64(75), int64(26)\n",
      "memory usage: 1.7 MB\n"
     ]
    }
   ],
   "source": [
    "als_trd.info()"
   ]
  },
  {
   "cell_type": "code",
   "execution_count": 9,
   "metadata": {},
   "outputs": [
    {
     "data": {
      "text/html": [
       "<div>\n",
       "<style scoped>\n",
       "    .dataframe tbody tr th:only-of-type {\n",
       "        vertical-align: middle;\n",
       "    }\n",
       "\n",
       "    .dataframe tbody tr th {\n",
       "        vertical-align: top;\n",
       "    }\n",
       "\n",
       "    .dataframe thead th {\n",
       "        text-align: right;\n",
       "    }\n",
       "</style>\n",
       "<table border=\"1\" class=\"dataframe\">\n",
       "  <thead>\n",
       "    <tr style=\"text-align: right;\">\n",
       "      <th></th>\n",
       "      <th>ID</th>\n",
       "      <th>Age_mean</th>\n",
       "      <th>Albumin_max</th>\n",
       "      <th>Albumin_median</th>\n",
       "      <th>Albumin_min</th>\n",
       "      <th>Albumin_range</th>\n",
       "      <th>ALSFRS_slope</th>\n",
       "      <th>ALSFRS_Total_max</th>\n",
       "      <th>ALSFRS_Total_median</th>\n",
       "      <th>ALSFRS_Total_min</th>\n",
       "      <th>...</th>\n",
       "      <th>Sodium_min</th>\n",
       "      <th>Sodium_range</th>\n",
       "      <th>SubjectID</th>\n",
       "      <th>trunk_max</th>\n",
       "      <th>trunk_median</th>\n",
       "      <th>trunk_min</th>\n",
       "      <th>trunk_range</th>\n",
       "      <th>Urine.Ph_max</th>\n",
       "      <th>Urine.Ph_median</th>\n",
       "      <th>Urine.Ph_min</th>\n",
       "    </tr>\n",
       "  </thead>\n",
       "  <tbody>\n",
       "    <tr>\n",
       "      <th>count</th>\n",
       "      <td>2223.000000</td>\n",
       "      <td>2223.000000</td>\n",
       "      <td>2223.000000</td>\n",
       "      <td>2223.000000</td>\n",
       "      <td>2223.000000</td>\n",
       "      <td>2223.000000</td>\n",
       "      <td>2223.000000</td>\n",
       "      <td>2223.000000</td>\n",
       "      <td>2223.000000</td>\n",
       "      <td>2223.000000</td>\n",
       "      <td>...</td>\n",
       "      <td>2223.000000</td>\n",
       "      <td>2223.000000</td>\n",
       "      <td>2223.000000</td>\n",
       "      <td>2223.000000</td>\n",
       "      <td>2223.000000</td>\n",
       "      <td>2223.000000</td>\n",
       "      <td>2223.000000</td>\n",
       "      <td>2223.000000</td>\n",
       "      <td>2223.000000</td>\n",
       "      <td>2223.000000</td>\n",
       "    </tr>\n",
       "    <tr>\n",
       "      <th>mean</th>\n",
       "      <td>1214.874944</td>\n",
       "      <td>54.550157</td>\n",
       "      <td>47.011134</td>\n",
       "      <td>43.952542</td>\n",
       "      <td>40.766347</td>\n",
       "      <td>0.013779</td>\n",
       "      <td>-0.728274</td>\n",
       "      <td>31.692308</td>\n",
       "      <td>27.104926</td>\n",
       "      <td>19.877193</td>\n",
       "      <td>...</td>\n",
       "      <td>136.755061</td>\n",
       "      <td>0.015000</td>\n",
       "      <td>498880.290148</td>\n",
       "      <td>6.203779</td>\n",
       "      <td>4.893387</td>\n",
       "      <td>2.955915</td>\n",
       "      <td>0.007136</td>\n",
       "      <td>6.820450</td>\n",
       "      <td>5.710639</td>\n",
       "      <td>5.183221</td>\n",
       "    </tr>\n",
       "    <tr>\n",
       "      <th>std</th>\n",
       "      <td>696.678300</td>\n",
       "      <td>11.396546</td>\n",
       "      <td>3.233980</td>\n",
       "      <td>2.654804</td>\n",
       "      <td>3.193087</td>\n",
       "      <td>0.009567</td>\n",
       "      <td>0.622329</td>\n",
       "      <td>5.314228</td>\n",
       "      <td>6.633643</td>\n",
       "      <td>8.583509</td>\n",
       "      <td>...</td>\n",
       "      <td>2.715247</td>\n",
       "      <td>0.009283</td>\n",
       "      <td>289923.528450</td>\n",
       "      <td>1.747660</td>\n",
       "      <td>2.146076</td>\n",
       "      <td>2.358095</td>\n",
       "      <td>0.004503</td>\n",
       "      <td>0.932141</td>\n",
       "      <td>0.625039</td>\n",
       "      <td>0.437222</td>\n",
       "    </tr>\n",
       "    <tr>\n",
       "      <th>min</th>\n",
       "      <td>1.000000</td>\n",
       "      <td>18.000000</td>\n",
       "      <td>37.000000</td>\n",
       "      <td>34.500000</td>\n",
       "      <td>24.000000</td>\n",
       "      <td>0.000000</td>\n",
       "      <td>-4.345238</td>\n",
       "      <td>11.000000</td>\n",
       "      <td>2.500000</td>\n",
       "      <td>0.000000</td>\n",
       "      <td>...</td>\n",
       "      <td>112.000000</td>\n",
       "      <td>0.000000</td>\n",
       "      <td>533.000000</td>\n",
       "      <td>0.000000</td>\n",
       "      <td>0.000000</td>\n",
       "      <td>0.000000</td>\n",
       "      <td>0.000000</td>\n",
       "      <td>5.000000</td>\n",
       "      <td>5.000000</td>\n",
       "      <td>5.000000</td>\n",
       "    </tr>\n",
       "    <tr>\n",
       "      <th>25%</th>\n",
       "      <td>614.500000</td>\n",
       "      <td>47.000000</td>\n",
       "      <td>45.000000</td>\n",
       "      <td>42.000000</td>\n",
       "      <td>39.000000</td>\n",
       "      <td>0.009042</td>\n",
       "      <td>-1.086310</td>\n",
       "      <td>29.000000</td>\n",
       "      <td>23.000000</td>\n",
       "      <td>14.000000</td>\n",
       "      <td>...</td>\n",
       "      <td>135.000000</td>\n",
       "      <td>0.010582</td>\n",
       "      <td>240825.500000</td>\n",
       "      <td>5.000000</td>\n",
       "      <td>3.000000</td>\n",
       "      <td>1.000000</td>\n",
       "      <td>0.003643</td>\n",
       "      <td>6.000000</td>\n",
       "      <td>5.000000</td>\n",
       "      <td>5.000000</td>\n",
       "    </tr>\n",
       "    <tr>\n",
       "      <th>50%</th>\n",
       "      <td>1213.000000</td>\n",
       "      <td>55.000000</td>\n",
       "      <td>47.000000</td>\n",
       "      <td>44.000000</td>\n",
       "      <td>41.000000</td>\n",
       "      <td>0.012111</td>\n",
       "      <td>-0.620748</td>\n",
       "      <td>33.000000</td>\n",
       "      <td>28.000000</td>\n",
       "      <td>20.000000</td>\n",
       "      <td>...</td>\n",
       "      <td>137.000000</td>\n",
       "      <td>0.013123</td>\n",
       "      <td>496835.000000</td>\n",
       "      <td>7.000000</td>\n",
       "      <td>5.000000</td>\n",
       "      <td>3.000000</td>\n",
       "      <td>0.006920</td>\n",
       "      <td>7.000000</td>\n",
       "      <td>6.000000</td>\n",
       "      <td>5.000000</td>\n",
       "    </tr>\n",
       "    <tr>\n",
       "      <th>75%</th>\n",
       "      <td>1815.500000</td>\n",
       "      <td>63.000000</td>\n",
       "      <td>49.000000</td>\n",
       "      <td>46.000000</td>\n",
       "      <td>43.000000</td>\n",
       "      <td>0.015873</td>\n",
       "      <td>-0.283832</td>\n",
       "      <td>36.000000</td>\n",
       "      <td>32.000000</td>\n",
       "      <td>27.000000</td>\n",
       "      <td>...</td>\n",
       "      <td>138.000000</td>\n",
       "      <td>0.017278</td>\n",
       "      <td>750300.500000</td>\n",
       "      <td>8.000000</td>\n",
       "      <td>6.500000</td>\n",
       "      <td>5.000000</td>\n",
       "      <td>0.009639</td>\n",
       "      <td>7.000000</td>\n",
       "      <td>6.000000</td>\n",
       "      <td>5.000000</td>\n",
       "    </tr>\n",
       "    <tr>\n",
       "      <th>max</th>\n",
       "      <td>2424.000000</td>\n",
       "      <td>81.000000</td>\n",
       "      <td>70.300000</td>\n",
       "      <td>51.100000</td>\n",
       "      <td>49.000000</td>\n",
       "      <td>0.243902</td>\n",
       "      <td>1.207011</td>\n",
       "      <td>40.000000</td>\n",
       "      <td>40.000000</td>\n",
       "      <td>40.000000</td>\n",
       "      <td>...</td>\n",
       "      <td>145.000000</td>\n",
       "      <td>0.142857</td>\n",
       "      <td>999482.000000</td>\n",
       "      <td>8.000000</td>\n",
       "      <td>8.000000</td>\n",
       "      <td>8.000000</td>\n",
       "      <td>0.042017</td>\n",
       "      <td>9.000000</td>\n",
       "      <td>9.000000</td>\n",
       "      <td>8.000000</td>\n",
       "    </tr>\n",
       "  </tbody>\n",
       "</table>\n",
       "<p>8 rows × 101 columns</p>\n",
       "</div>"
      ],
      "text/plain": [
       "                ID     Age_mean  Albumin_max  Albumin_median  Albumin_min  \\\n",
       "count  2223.000000  2223.000000  2223.000000     2223.000000  2223.000000   \n",
       "mean   1214.874944    54.550157    47.011134       43.952542    40.766347   \n",
       "std     696.678300    11.396546     3.233980        2.654804     3.193087   \n",
       "min       1.000000    18.000000    37.000000       34.500000    24.000000   \n",
       "25%     614.500000    47.000000    45.000000       42.000000    39.000000   \n",
       "50%    1213.000000    55.000000    47.000000       44.000000    41.000000   \n",
       "75%    1815.500000    63.000000    49.000000       46.000000    43.000000   \n",
       "max    2424.000000    81.000000    70.300000       51.100000    49.000000   \n",
       "\n",
       "       Albumin_range  ALSFRS_slope  ALSFRS_Total_max  ALSFRS_Total_median  \\\n",
       "count    2223.000000   2223.000000       2223.000000          2223.000000   \n",
       "mean        0.013779     -0.728274         31.692308            27.104926   \n",
       "std         0.009567      0.622329          5.314228             6.633643   \n",
       "min         0.000000     -4.345238         11.000000             2.500000   \n",
       "25%         0.009042     -1.086310         29.000000            23.000000   \n",
       "50%         0.012111     -0.620748         33.000000            28.000000   \n",
       "75%         0.015873     -0.283832         36.000000            32.000000   \n",
       "max         0.243902      1.207011         40.000000            40.000000   \n",
       "\n",
       "       ALSFRS_Total_min  ...   Sodium_min  Sodium_range      SubjectID  \\\n",
       "count       2223.000000  ...  2223.000000   2223.000000    2223.000000   \n",
       "mean          19.877193  ...   136.755061      0.015000  498880.290148   \n",
       "std            8.583509  ...     2.715247      0.009283  289923.528450   \n",
       "min            0.000000  ...   112.000000      0.000000     533.000000   \n",
       "25%           14.000000  ...   135.000000      0.010582  240825.500000   \n",
       "50%           20.000000  ...   137.000000      0.013123  496835.000000   \n",
       "75%           27.000000  ...   138.000000      0.017278  750300.500000   \n",
       "max           40.000000  ...   145.000000      0.142857  999482.000000   \n",
       "\n",
       "         trunk_max  trunk_median    trunk_min  trunk_range  Urine.Ph_max  \\\n",
       "count  2223.000000   2223.000000  2223.000000  2223.000000   2223.000000   \n",
       "mean      6.203779      4.893387     2.955915     0.007136      6.820450   \n",
       "std       1.747660      2.146076     2.358095     0.004503      0.932141   \n",
       "min       0.000000      0.000000     0.000000     0.000000      5.000000   \n",
       "25%       5.000000      3.000000     1.000000     0.003643      6.000000   \n",
       "50%       7.000000      5.000000     3.000000     0.006920      7.000000   \n",
       "75%       8.000000      6.500000     5.000000     0.009639      7.000000   \n",
       "max       8.000000      8.000000     8.000000     0.042017      9.000000   \n",
       "\n",
       "       Urine.Ph_median  Urine.Ph_min  \n",
       "count      2223.000000   2223.000000  \n",
       "mean          5.710639      5.183221  \n",
       "std           0.625039      0.437222  \n",
       "min           5.000000      5.000000  \n",
       "25%           5.000000      5.000000  \n",
       "50%           6.000000      5.000000  \n",
       "75%           6.000000      5.000000  \n",
       "max           9.000000      8.000000  \n",
       "\n",
       "[8 rows x 101 columns]"
      ]
     },
     "execution_count": 9,
     "metadata": {},
     "output_type": "execute_result"
    }
   ],
   "source": [
    "als_trd.describe()"
   ]
  },
  {
   "cell_type": "code",
   "execution_count": 11,
   "metadata": {},
   "outputs": [
    {
     "data": {
      "text/plain": [
       "ID                 0\n",
       "Age_mean           0\n",
       "Albumin_max        0\n",
       "Albumin_median     0\n",
       "Albumin_min        0\n",
       "                  ..\n",
       "trunk_min          0\n",
       "trunk_range        0\n",
       "Urine.Ph_max       0\n",
       "Urine.Ph_median    0\n",
       "Urine.Ph_min       0\n",
       "Length: 101, dtype: int64"
      ]
     },
     "execution_count": 11,
     "metadata": {},
     "output_type": "execute_result"
    }
   ],
   "source": [
    "als_trd.isnull().sum()"
   ]
  },
  {
   "cell_type": "code",
   "execution_count": 12,
   "metadata": {},
   "outputs": [
    {
     "data": {
      "text/plain": [
       "<seaborn.axisgrid.FacetGrid at 0x171dd730310>"
      ]
     },
     "execution_count": 12,
     "metadata": {},
     "output_type": "execute_result"
    },
    {
     "data": {
      "image/png": "[encoded data removed]",
      "text/plain": [
       "<Figure size 360x360 with 1 Axes>"
      ]
     },
     "metadata": {
      "needs_background": "light"
     },
     "output_type": "display_data"
    }
   ],
   "source": [
    "#Performing summary and preliminary visualization\n",
    "\n",
    "sns.lmplot(x='Age_mean',y='ALSFRS_slope',data=als_trd, fit_reg=False)"
   ]
  },
  {
   "cell_type": "code",
   "execution_count": 13,
   "metadata": {},
   "outputs": [
    {
     "data": {
      "text/plain": [
       "<seaborn.axisgrid.FacetGrid at 0x171de01dca0>"
      ]
     },
     "execution_count": 13,
     "metadata": {},
     "output_type": "execute_result"
    },
    {
     "data": {
      "image/png": "[encoded data removed]",
      "text/plain": [
       "<Figure size 360x360 with 1 Axes>"
      ]
     },
     "metadata": {
      "needs_background": "light"
     },
     "output_type": "display_data"
    }
   ],
   "source": [
    "sns.lmplot(x='Albumin_min',y='ALSFRS_slope',data=als_trd, fit_reg=False)"
   ]
  },
  {
   "cell_type": "code",
   "execution_count": 14,
   "metadata": {},
   "outputs": [
    {
     "data": {
      "text/plain": [
       "<seaborn.axisgrid.FacetGrid at 0x171dd7a12b0>"
      ]
     },
     "execution_count": 14,
     "metadata": {},
     "output_type": "execute_result"
    },
    {
     "data": {
      "image/png": "[encoded data removed]",
      "text/plain": [
       "<Figure size 360x360 with 1 Axes>"
      ]
     },
     "metadata": {
      "needs_background": "light"
     },
     "output_type": "display_data"
    }
   ],
   "source": [
    "sns.lmplot(x='Albumin_max',y='ALSFRS_slope',data=als_trd, fit_reg=False)"
   ]
  },
  {
   "cell_type": "code",
   "execution_count": 15,
   "metadata": {},
   "outputs": [
    {
     "data": {
      "text/plain": [
       "<seaborn.axisgrid.FacetGrid at 0x171de01deb0>"
      ]
     },
     "execution_count": 15,
     "metadata": {},
     "output_type": "execute_result"
    },
    {
     "data": {
      "image/png": "[encoded data removed]",
      "text/plain": [
       "<Figure size 360x360 with 1 Axes>"
      ]
     },
     "metadata": {
      "needs_background": "light"
     },
     "output_type": "display_data"
    }
   ],
   "source": [
    "sns.lmplot(x='Albumin_median',y='ALSFRS_slope',data=als_trd, fit_reg=False)"
   ]
  },
  {
   "cell_type": "code",
   "execution_count": 16,
   "metadata": {},
   "outputs": [
    {
     "data": {
      "text/plain": [
       "<seaborn.axisgrid.FacetGrid at 0x171de0c39d0>"
      ]
     },
     "execution_count": 16,
     "metadata": {},
     "output_type": "execute_result"
    },
    {
     "data": {
      "image/png": "[encoded data removed]",
      "text/plain": [
       "<Figure size 360x360 with 1 Axes>"
      ]
     },
     "metadata": {
      "needs_background": "light"
     },
     "output_type": "display_data"
    }
   ],
   "source": [
    "sns.lmplot(x='trunk_min',y='ALSFRS_slope',data=als_trd, fit_reg=False)"
   ]
  },
  {
   "cell_type": "code",
   "execution_count": 17,
   "metadata": {},
   "outputs": [
    {
     "data": {
      "text/plain": [
       "<seaborn.axisgrid.FacetGrid at 0x171de199790>"
      ]
     },
     "execution_count": 17,
     "metadata": {},
     "output_type": "execute_result"
    },
    {
     "data": {
      "image/png": "[encoded data removed]",
      "text/plain": [
       "<Figure size 360x360 with 1 Axes>"
      ]
     },
     "metadata": {
      "needs_background": "light"
     },
     "output_type": "display_data"
    }
   ],
   "source": [
    "sns.lmplot(x='trunk_median',y='ALSFRS_slope',data=als_trd, fit_reg=False)"
   ]
  },
  {
   "cell_type": "code",
   "execution_count": 18,
   "metadata": {},
   "outputs": [
    {
     "data": {
      "text/plain": [
       "<seaborn.axisgrid.FacetGrid at 0x171de16dfa0>"
      ]
     },
     "execution_count": 18,
     "metadata": {},
     "output_type": "execute_result"
    },
    {
     "data": {
      "image/png": "[encoded data removed]",
      "text/plain": [
       "<Figure size 360x360 with 1 Axes>"
      ]
     },
     "metadata": {
      "needs_background": "light"
     },
     "output_type": "display_data"
    }
   ],
   "source": [
    "sns.lmplot(x='trunk_max',y='ALSFRS_slope',data=als_trd, fit_reg=False)"
   ]
  },
  {
   "cell_type": "code",
   "execution_count": 19,
   "metadata": {},
   "outputs": [
    {
     "data": {
      "text/plain": [
       "array([[-1.74276716,  0.91713698,  3.08941722, ..., -0.88037551,\n",
       "         0.46305355,  1.86853157],\n",
       "       [-1.74133146, -0.57487867, -0.62201561, ...,  0.1926645 ,\n",
       "        -1.13720768, -0.41915124],\n",
       "       [-1.73989575, -1.45253494,  0.92441474, ..., -0.88037551,\n",
       "        -1.13720768, -0.41915124],\n",
       "       ...,\n",
       "       [ 1.7316406 , -0.6626443 , -0.31272954, ...,  2.33874452,\n",
       "         0.46305355, -0.41915124],\n",
       "       [ 1.73307631, -1.54030057,  0.61512867, ..., -0.88037551,\n",
       "        -1.13720768, -0.41915124],\n",
       "       [ 1.73594772, -0.57487867,  0.3058426 , ..., -1.95341552,\n",
       "        -1.13720768, -0.41915124]])"
      ]
     },
     "execution_count": 19,
     "metadata": {},
     "output_type": "execute_result"
    }
   ],
   "source": [
    "#Normalizing and Scaling\n",
    "from sklearn.preprocessing import StandardScaler\n",
    "\n",
    "als_scale = StandardScaler()\n",
    "als_scale.fit(als_trd)\n",
    "als_scaledata = als_scale.transform(als_trd)\n",
    "als_scaledata\n"
   ]
  },
  {
   "cell_type": "code",
   "execution_count": 20,
   "metadata": {},
   "outputs": [
    {
     "data": {
      "text/plain": [
       "array([[-1.40652008, -2.30739276],\n",
       "       [-1.42008372, -4.86216837],\n",
       "       [ 1.63722458, -0.42264623],\n",
       "       ...,\n",
       "       [-0.45297893,  4.23825754],\n",
       "       [-0.35086195,  3.3141136 ],\n",
       "       [ 1.44812223,  0.58176397]])"
      ]
     },
     "execution_count": 20,
     "metadata": {},
     "output_type": "execute_result"
    }
   ],
   "source": [
    "# To reduce dimension we are using Principle Component Analysis\n",
    "\n",
    "from sklearn.decomposition import PCA\n",
    "\n",
    "d_pca =PCA(n_components=2)\n",
    "d_pca.fit(als_scaledata)\n",
    "als_dpca = d_pca.transform(als_scaledata)\n",
    "als_dpca"
   ]
  },
  {
   "cell_type": "code",
   "execution_count": 21,
   "metadata": {},
   "outputs": [
    {
     "data": {
      "text/plain": [
       "(2223, 2)"
      ]
     },
     "execution_count": 21,
     "metadata": {},
     "output_type": "execute_result"
    }
   ],
   "source": [
    "als_dpca.shape"
   ]
  },
  {
   "cell_type": "code",
   "execution_count": 22,
   "metadata": {},
   "outputs": [
    {
     "data": {
      "text/plain": [
       "<matplotlib.collections.PathCollection at 0x171de22b9d0>"
      ]
     },
     "execution_count": 22,
     "metadata": {},
     "output_type": "execute_result"
    },
    {
     "data": {
      "image/png": "[encoded data removed]",
      "text/plain": [
       "<Figure size 432x288 with 1 Axes>"
      ]
     },
     "metadata": {
      "needs_background": "light"
     },
     "output_type": "display_data"
    }
   ],
   "source": [
    "plot.scatter(als_dpca[:,0],als_trd['ALSFRS_slope'])"
   ]
  },
  {
   "cell_type": "code",
   "execution_count": 28,
   "metadata": {},
   "outputs": [
    {
     "data": {
      "text/plain": [
       "array([[-5.78991656e-03,  3.85745516e-03, -4.53037993e-02,\n",
       "        -6.67470730e-02, -8.67312447e-02,  9.00134004e-02,\n",
       "        -1.67614771e-01, -2.11753327e-01, -2.54455562e-01,\n",
       "        -2.73224505e-01,  2.06304428e-01,  6.37070905e-03,\n",
       "        -3.02005640e-02, -4.52482134e-02,  5.37919508e-02,\n",
       "        -1.10704287e-02, -5.08963112e-02, -5.88896532e-02,\n",
       "         3.93299769e-02, -9.68356021e-03, -2.04385628e-02,\n",
       "        -1.02369089e-02,  7.59229156e-02, -2.54067276e-02,\n",
       "        -4.67159464e-02, -5.64724015e-02,  7.41362106e-02,\n",
       "         3.22984688e-03, -8.94411568e-03, -1.98713557e-02,\n",
       "         6.33091693e-02, -5.71573272e-03, -1.69036588e-02,\n",
       "        -3.17223363e-02,  7.01343263e-02,  1.59880005e-02,\n",
       "         2.66576437e-02,  1.42505472e-02,  4.19797791e-02,\n",
       "        -4.10176533e-02, -5.33052237e-02, -5.27539138e-02,\n",
       "         8.99134165e-02, -9.58651064e-02, -1.05001497e-01,\n",
       "        -1.16495817e-01,  6.97734434e-02, -6.03153028e-02,\n",
       "         1.10819402e-02,  3.59340179e-03, -1.97030531e-03,\n",
       "         5.08980092e-02, -1.49401039e-01, -1.82765052e-01,\n",
       "        -2.11489849e-01,  1.56163295e-01,  5.56881714e-03,\n",
       "        -9.21347393e-04, -1.09022500e-02,  1.01259115e-01,\n",
       "        -1.37804147e-02, -3.88753822e-02, -6.16918589e-02,\n",
       "         1.03626902e-01, -1.27140675e-01, -1.64969537e-01,\n",
       "        -2.04934104e-01,  1.09607427e-01, -9.11171227e-02,\n",
       "        -1.23154962e-01, -1.61104134e-01,  1.81347489e-01,\n",
       "         1.55692619e-02, -1.28499017e-02,  7.13811815e-02,\n",
       "         5.95248524e-02,  4.43041708e-02, -1.81029523e-03,\n",
       "        -3.33007545e-02, -2.93109066e-02,  3.83734978e-02,\n",
       "         8.71485941e-02,  8.05050287e-02,  6.01421113e-02,\n",
       "         9.54486207e-02, -5.87859433e-02, -1.20747106e-01,\n",
       "        -1.61242486e-01,  1.63369663e-01, -1.37106807e-02,\n",
       "        -1.33074958e-02, -2.16678789e-02,  8.29544315e-02,\n",
       "        -5.75491774e-03, -1.80464988e-01, -2.17313639e-01,\n",
       "        -2.42289705e-01,  1.62940684e-01,  2.49950553e-02,\n",
       "         2.51332341e-02,  1.01135708e-02],\n",
       "       [-1.91492136e-03, -7.24562760e-02,  1.06514862e-01,\n",
       "         1.28527522e-01,  1.13861083e-01, -5.19922327e-03,\n",
       "        -5.62265642e-03, -1.81558753e-02, -1.41875339e-02,\n",
       "        -5.09713775e-03, -1.06430599e-02,  1.74375680e-01,\n",
       "         2.47234780e-01,  2.25507519e-01,  1.28851040e-01,\n",
       "         1.37617610e-01,  2.08894937e-01,  1.64510917e-01,\n",
       "         1.26866366e-01, -4.03473468e-02, -6.35744916e-02,\n",
       "        -6.56595607e-02,  8.41797177e-02,  2.64279473e-03,\n",
       "        -1.14263502e-02, -1.23032182e-02,  4.55641467e-02,\n",
       "         1.71180498e-01,  1.83511197e-01,  1.45483511e-01,\n",
       "         3.72886704e-02,  8.73120068e-02,  1.04800544e-01,\n",
       "         1.18725502e-01,  2.39670034e-02,  3.25019743e-02,\n",
       "         3.47665616e-02, -2.13322374e-05,  3.03928478e-02,\n",
       "         7.72017186e-03, -4.42057059e-03, -2.01534008e-02,\n",
       "         5.46611396e-02,  6.64039841e-02,  5.36587953e-02,\n",
       "         1.93491019e-02,  7.77003618e-02,  2.09371614e-01,\n",
       "         7.43976415e-02,  7.42627142e-02,  3.88230851e-02,\n",
       "         6.86564693e-02, -8.55330980e-02, -9.63498861e-02,\n",
       "        -8.97258614e-02,  2.69593668e-02,  1.73517585e-01,\n",
       "         1.74734125e-01,  1.76008765e-01,  9.34765413e-02,\n",
       "         2.42856049e-01,  2.54938938e-01,  1.94860705e-01,\n",
       "         5.40047988e-02, -3.80134811e-02, -4.77215091e-02,\n",
       "        -5.35999137e-02,  1.02258570e-02,  1.50849727e-01,\n",
       "         1.53897275e-01,  1.30794106e-01, -7.46086581e-02,\n",
       "        -3.32570366e-02,  1.48507322e-01, -1.00965989e-01,\n",
       "        -1.07914344e-01, -1.04228839e-01, -2.62777239e-03,\n",
       "        -1.76316785e-02, -4.31347032e-03,  1.76320309e-02,\n",
       "         4.32717074e-02,  4.67537824e-02,  4.88908283e-02,\n",
       "         2.96009972e-02,  1.72773283e-02,  1.80275417e-02,\n",
       "         1.41599933e-02, -7.09240418e-03,  1.65386805e-03,\n",
       "        -6.95517316e-03, -2.86237568e-02,  6.89634437e-02,\n",
       "        -2.04869081e-03, -7.90435813e-02, -8.96533232e-02,\n",
       "        -7.40424993e-02,  1.30909119e-02, -4.01931922e-02,\n",
       "        -6.67794198e-02, -7.73916664e-02]])"
      ]
     },
     "execution_count": 28,
     "metadata": {},
     "output_type": "execute_result"
    }
   ],
   "source": [
    "d_pca.components_"
   ]
  },
  {
   "cell_type": "code",
   "execution_count": 23,
   "metadata": {},
   "outputs": [
    {
     "data": {
      "text/html": [
       "<div>\n",
       "<style scoped>\n",
       "    .dataframe tbody tr th:only-of-type {\n",
       "        vertical-align: middle;\n",
       "    }\n",
       "\n",
       "    .dataframe tbody tr th {\n",
       "        vertical-align: top;\n",
       "    }\n",
       "\n",
       "    .dataframe thead th {\n",
       "        text-align: right;\n",
       "    }\n",
       "</style>\n",
       "<table border=\"1\" class=\"dataframe\">\n",
       "  <thead>\n",
       "    <tr style=\"text-align: right;\">\n",
       "      <th></th>\n",
       "      <th>ID</th>\n",
       "      <th>Age_mean</th>\n",
       "      <th>Albumin_max</th>\n",
       "      <th>Albumin_median</th>\n",
       "      <th>Albumin_min</th>\n",
       "      <th>Albumin_range</th>\n",
       "      <th>ALSFRS_slope</th>\n",
       "      <th>ALSFRS_Total_max</th>\n",
       "      <th>ALSFRS_Total_median</th>\n",
       "      <th>ALSFRS_Total_min</th>\n",
       "      <th>...</th>\n",
       "      <th>Sodium_min</th>\n",
       "      <th>Sodium_range</th>\n",
       "      <th>SubjectID</th>\n",
       "      <th>trunk_max</th>\n",
       "      <th>trunk_median</th>\n",
       "      <th>trunk_min</th>\n",
       "      <th>trunk_range</th>\n",
       "      <th>Urine.Ph_max</th>\n",
       "      <th>Urine.Ph_median</th>\n",
       "      <th>Urine.Ph_min</th>\n",
       "    </tr>\n",
       "  </thead>\n",
       "  <tbody>\n",
       "    <tr>\n",
       "      <th>0</th>\n",
       "      <td>-0.005792</td>\n",
       "      <td>0.003858</td>\n",
       "      <td>-0.045304</td>\n",
       "      <td>-0.066748</td>\n",
       "      <td>-0.086732</td>\n",
       "      <td>0.090014</td>\n",
       "      <td>-0.167615</td>\n",
       "      <td>-0.211753</td>\n",
       "      <td>-0.254455</td>\n",
       "      <td>-0.273225</td>\n",
       "      <td>...</td>\n",
       "      <td>-0.021667</td>\n",
       "      <td>0.082953</td>\n",
       "      <td>-0.005757</td>\n",
       "      <td>-0.180465</td>\n",
       "      <td>-0.217314</td>\n",
       "      <td>-0.242290</td>\n",
       "      <td>0.162941</td>\n",
       "      <td>0.024996</td>\n",
       "      <td>0.025133</td>\n",
       "      <td>0.010113</td>\n",
       "    </tr>\n",
       "    <tr>\n",
       "      <th>1</th>\n",
       "      <td>-0.001737</td>\n",
       "      <td>-0.072602</td>\n",
       "      <td>0.106475</td>\n",
       "      <td>0.128488</td>\n",
       "      <td>0.113803</td>\n",
       "      <td>-0.005188</td>\n",
       "      <td>-0.005746</td>\n",
       "      <td>-0.018010</td>\n",
       "      <td>-0.014100</td>\n",
       "      <td>-0.005130</td>\n",
       "      <td>...</td>\n",
       "      <td>-0.028401</td>\n",
       "      <td>0.068827</td>\n",
       "      <td>-0.001870</td>\n",
       "      <td>-0.078840</td>\n",
       "      <td>-0.089508</td>\n",
       "      <td>-0.074026</td>\n",
       "      <td>0.013230</td>\n",
       "      <td>-0.040193</td>\n",
       "      <td>-0.066817</td>\n",
       "      <td>-0.077429</td>\n",
       "    </tr>\n",
       "  </tbody>\n",
       "</table>\n",
       "<p>2 rows × 101 columns</p>\n",
       "</div>"
      ],
      "text/plain": [
       "         ID  Age_mean  Albumin_max  Albumin_median  Albumin_min  \\\n",
       "0 -0.005792  0.003858    -0.045304       -0.066748    -0.086732   \n",
       "1 -0.001737 -0.072602     0.106475        0.128488     0.113803   \n",
       "\n",
       "   Albumin_range  ALSFRS_slope  ALSFRS_Total_max  ALSFRS_Total_median  \\\n",
       "0       0.090014     -0.167615         -0.211753            -0.254455   \n",
       "1      -0.005188     -0.005746         -0.018010            -0.014100   \n",
       "\n",
       "   ALSFRS_Total_min  ...  Sodium_min  Sodium_range  SubjectID  trunk_max  \\\n",
       "0         -0.273225  ...   -0.021667      0.082953  -0.005757  -0.180465   \n",
       "1         -0.005130  ...   -0.028401      0.068827  -0.001870  -0.078840   \n",
       "\n",
       "   trunk_median  trunk_min  trunk_range  Urine.Ph_max  Urine.Ph_median  \\\n",
       "0     -0.217314  -0.242290     0.162941      0.024996         0.025133   \n",
       "1     -0.089508  -0.074026     0.013230     -0.040193        -0.066817   \n",
       "\n",
       "   Urine.Ph_min  \n",
       "0      0.010113  \n",
       "1     -0.077429  \n",
       "\n",
       "[2 rows x 101 columns]"
      ]
     },
     "execution_count": 23,
     "metadata": {},
     "output_type": "execute_result"
    }
   ],
   "source": [
    "data = pd.DataFrame(d_pca.components_, columns = als_trd.columns)\n",
    "data"
   ]
  },
  {
   "cell_type": "code",
   "execution_count": 24,
   "metadata": {},
   "outputs": [
    {
     "data": {
      "text/html": [
       "<div>\n",
       "<style scoped>\n",
       "    .dataframe tbody tr th:only-of-type {\n",
       "        vertical-align: middle;\n",
       "    }\n",
       "\n",
       "    .dataframe tbody tr th {\n",
       "        vertical-align: top;\n",
       "    }\n",
       "\n",
       "    .dataframe thead th {\n",
       "        text-align: right;\n",
       "    }\n",
       "</style>\n",
       "<table border=\"1\" class=\"dataframe\">\n",
       "  <thead>\n",
       "    <tr style=\"text-align: right;\">\n",
       "      <th></th>\n",
       "      <th>ID</th>\n",
       "      <th>Age_mean</th>\n",
       "      <th>Albumin_max</th>\n",
       "      <th>Albumin_median</th>\n",
       "      <th>Albumin_min</th>\n",
       "      <th>Albumin_range</th>\n",
       "      <th>ALSFRS_slope</th>\n",
       "      <th>ALSFRS_Total_max</th>\n",
       "      <th>ALSFRS_Total_median</th>\n",
       "      <th>ALSFRS_Total_min</th>\n",
       "      <th>...</th>\n",
       "      <th>Sodium_min</th>\n",
       "      <th>Sodium_range</th>\n",
       "      <th>SubjectID</th>\n",
       "      <th>trunk_max</th>\n",
       "      <th>trunk_median</th>\n",
       "      <th>trunk_min</th>\n",
       "      <th>trunk_range</th>\n",
       "      <th>Urine.Ph_max</th>\n",
       "      <th>Urine.Ph_median</th>\n",
       "      <th>Urine.Ph_min</th>\n",
       "    </tr>\n",
       "  </thead>\n",
       "  <tbody>\n",
       "    <tr>\n",
       "      <th>ID</th>\n",
       "      <td>1.0</td>\n",
       "      <td>-1.0</td>\n",
       "      <td>1.0</td>\n",
       "      <td>1.0</td>\n",
       "      <td>1.0</td>\n",
       "      <td>-1.0</td>\n",
       "      <td>1.0</td>\n",
       "      <td>1.0</td>\n",
       "      <td>1.0</td>\n",
       "      <td>1.0</td>\n",
       "      <td>...</td>\n",
       "      <td>-1.0</td>\n",
       "      <td>-1.0</td>\n",
       "      <td>1.0</td>\n",
       "      <td>1.0</td>\n",
       "      <td>1.0</td>\n",
       "      <td>1.0</td>\n",
       "      <td>-1.0</td>\n",
       "      <td>-1.0</td>\n",
       "      <td>-1.0</td>\n",
       "      <td>-1.0</td>\n",
       "    </tr>\n",
       "    <tr>\n",
       "      <th>Age_mean</th>\n",
       "      <td>-1.0</td>\n",
       "      <td>1.0</td>\n",
       "      <td>-1.0</td>\n",
       "      <td>-1.0</td>\n",
       "      <td>-1.0</td>\n",
       "      <td>1.0</td>\n",
       "      <td>-1.0</td>\n",
       "      <td>-1.0</td>\n",
       "      <td>-1.0</td>\n",
       "      <td>-1.0</td>\n",
       "      <td>...</td>\n",
       "      <td>1.0</td>\n",
       "      <td>1.0</td>\n",
       "      <td>-1.0</td>\n",
       "      <td>-1.0</td>\n",
       "      <td>-1.0</td>\n",
       "      <td>-1.0</td>\n",
       "      <td>1.0</td>\n",
       "      <td>1.0</td>\n",
       "      <td>1.0</td>\n",
       "      <td>1.0</td>\n",
       "    </tr>\n",
       "    <tr>\n",
       "      <th>Albumin_max</th>\n",
       "      <td>1.0</td>\n",
       "      <td>-1.0</td>\n",
       "      <td>1.0</td>\n",
       "      <td>1.0</td>\n",
       "      <td>1.0</td>\n",
       "      <td>-1.0</td>\n",
       "      <td>1.0</td>\n",
       "      <td>1.0</td>\n",
       "      <td>1.0</td>\n",
       "      <td>1.0</td>\n",
       "      <td>...</td>\n",
       "      <td>-1.0</td>\n",
       "      <td>-1.0</td>\n",
       "      <td>1.0</td>\n",
       "      <td>1.0</td>\n",
       "      <td>1.0</td>\n",
       "      <td>1.0</td>\n",
       "      <td>-1.0</td>\n",
       "      <td>-1.0</td>\n",
       "      <td>-1.0</td>\n",
       "      <td>-1.0</td>\n",
       "    </tr>\n",
       "    <tr>\n",
       "      <th>Albumin_median</th>\n",
       "      <td>1.0</td>\n",
       "      <td>-1.0</td>\n",
       "      <td>1.0</td>\n",
       "      <td>1.0</td>\n",
       "      <td>1.0</td>\n",
       "      <td>-1.0</td>\n",
       "      <td>1.0</td>\n",
       "      <td>1.0</td>\n",
       "      <td>1.0</td>\n",
       "      <td>1.0</td>\n",
       "      <td>...</td>\n",
       "      <td>-1.0</td>\n",
       "      <td>-1.0</td>\n",
       "      <td>1.0</td>\n",
       "      <td>1.0</td>\n",
       "      <td>1.0</td>\n",
       "      <td>1.0</td>\n",
       "      <td>-1.0</td>\n",
       "      <td>-1.0</td>\n",
       "      <td>-1.0</td>\n",
       "      <td>-1.0</td>\n",
       "    </tr>\n",
       "    <tr>\n",
       "      <th>Albumin_min</th>\n",
       "      <td>1.0</td>\n",
       "      <td>-1.0</td>\n",
       "      <td>1.0</td>\n",
       "      <td>1.0</td>\n",
       "      <td>1.0</td>\n",
       "      <td>-1.0</td>\n",
       "      <td>1.0</td>\n",
       "      <td>1.0</td>\n",
       "      <td>1.0</td>\n",
       "      <td>1.0</td>\n",
       "      <td>...</td>\n",
       "      <td>-1.0</td>\n",
       "      <td>-1.0</td>\n",
       "      <td>1.0</td>\n",
       "      <td>1.0</td>\n",
       "      <td>1.0</td>\n",
       "      <td>1.0</td>\n",
       "      <td>-1.0</td>\n",
       "      <td>-1.0</td>\n",
       "      <td>-1.0</td>\n",
       "      <td>-1.0</td>\n",
       "    </tr>\n",
       "    <tr>\n",
       "      <th>...</th>\n",
       "      <td>...</td>\n",
       "      <td>...</td>\n",
       "      <td>...</td>\n",
       "      <td>...</td>\n",
       "      <td>...</td>\n",
       "      <td>...</td>\n",
       "      <td>...</td>\n",
       "      <td>...</td>\n",
       "      <td>...</td>\n",
       "      <td>...</td>\n",
       "      <td>...</td>\n",
       "      <td>...</td>\n",
       "      <td>...</td>\n",
       "      <td>...</td>\n",
       "      <td>...</td>\n",
       "      <td>...</td>\n",
       "      <td>...</td>\n",
       "      <td>...</td>\n",
       "      <td>...</td>\n",
       "      <td>...</td>\n",
       "      <td>...</td>\n",
       "    </tr>\n",
       "    <tr>\n",
       "      <th>trunk_min</th>\n",
       "      <td>1.0</td>\n",
       "      <td>-1.0</td>\n",
       "      <td>1.0</td>\n",
       "      <td>1.0</td>\n",
       "      <td>1.0</td>\n",
       "      <td>-1.0</td>\n",
       "      <td>1.0</td>\n",
       "      <td>1.0</td>\n",
       "      <td>1.0</td>\n",
       "      <td>1.0</td>\n",
       "      <td>...</td>\n",
       "      <td>-1.0</td>\n",
       "      <td>-1.0</td>\n",
       "      <td>1.0</td>\n",
       "      <td>1.0</td>\n",
       "      <td>1.0</td>\n",
       "      <td>1.0</td>\n",
       "      <td>-1.0</td>\n",
       "      <td>-1.0</td>\n",
       "      <td>-1.0</td>\n",
       "      <td>-1.0</td>\n",
       "    </tr>\n",
       "    <tr>\n",
       "      <th>trunk_range</th>\n",
       "      <td>-1.0</td>\n",
       "      <td>1.0</td>\n",
       "      <td>-1.0</td>\n",
       "      <td>-1.0</td>\n",
       "      <td>-1.0</td>\n",
       "      <td>1.0</td>\n",
       "      <td>-1.0</td>\n",
       "      <td>-1.0</td>\n",
       "      <td>-1.0</td>\n",
       "      <td>-1.0</td>\n",
       "      <td>...</td>\n",
       "      <td>1.0</td>\n",
       "      <td>1.0</td>\n",
       "      <td>-1.0</td>\n",
       "      <td>-1.0</td>\n",
       "      <td>-1.0</td>\n",
       "      <td>-1.0</td>\n",
       "      <td>1.0</td>\n",
       "      <td>1.0</td>\n",
       "      <td>1.0</td>\n",
       "      <td>1.0</td>\n",
       "    </tr>\n",
       "    <tr>\n",
       "      <th>Urine.Ph_max</th>\n",
       "      <td>-1.0</td>\n",
       "      <td>1.0</td>\n",
       "      <td>-1.0</td>\n",
       "      <td>-1.0</td>\n",
       "      <td>-1.0</td>\n",
       "      <td>1.0</td>\n",
       "      <td>-1.0</td>\n",
       "      <td>-1.0</td>\n",
       "      <td>-1.0</td>\n",
       "      <td>-1.0</td>\n",
       "      <td>...</td>\n",
       "      <td>1.0</td>\n",
       "      <td>1.0</td>\n",
       "      <td>-1.0</td>\n",
       "      <td>-1.0</td>\n",
       "      <td>-1.0</td>\n",
       "      <td>-1.0</td>\n",
       "      <td>1.0</td>\n",
       "      <td>1.0</td>\n",
       "      <td>1.0</td>\n",
       "      <td>1.0</td>\n",
       "    </tr>\n",
       "    <tr>\n",
       "      <th>Urine.Ph_median</th>\n",
       "      <td>-1.0</td>\n",
       "      <td>1.0</td>\n",
       "      <td>-1.0</td>\n",
       "      <td>-1.0</td>\n",
       "      <td>-1.0</td>\n",
       "      <td>1.0</td>\n",
       "      <td>-1.0</td>\n",
       "      <td>-1.0</td>\n",
       "      <td>-1.0</td>\n",
       "      <td>-1.0</td>\n",
       "      <td>...</td>\n",
       "      <td>1.0</td>\n",
       "      <td>1.0</td>\n",
       "      <td>-1.0</td>\n",
       "      <td>-1.0</td>\n",
       "      <td>-1.0</td>\n",
       "      <td>-1.0</td>\n",
       "      <td>1.0</td>\n",
       "      <td>1.0</td>\n",
       "      <td>1.0</td>\n",
       "      <td>1.0</td>\n",
       "    </tr>\n",
       "    <tr>\n",
       "      <th>Urine.Ph_min</th>\n",
       "      <td>-1.0</td>\n",
       "      <td>1.0</td>\n",
       "      <td>-1.0</td>\n",
       "      <td>-1.0</td>\n",
       "      <td>-1.0</td>\n",
       "      <td>1.0</td>\n",
       "      <td>-1.0</td>\n",
       "      <td>-1.0</td>\n",
       "      <td>-1.0</td>\n",
       "      <td>-1.0</td>\n",
       "      <td>...</td>\n",
       "      <td>1.0</td>\n",
       "      <td>1.0</td>\n",
       "      <td>-1.0</td>\n",
       "      <td>-1.0</td>\n",
       "      <td>-1.0</td>\n",
       "      <td>-1.0</td>\n",
       "      <td>1.0</td>\n",
       "      <td>1.0</td>\n",
       "      <td>1.0</td>\n",
       "      <td>1.0</td>\n",
       "    </tr>\n",
       "  </tbody>\n",
       "</table>\n",
       "<p>101 rows × 101 columns</p>\n",
       "</div>"
      ],
      "text/plain": [
       "                  ID  Age_mean  Albumin_max  Albumin_median  Albumin_min  \\\n",
       "ID               1.0      -1.0          1.0             1.0          1.0   \n",
       "Age_mean        -1.0       1.0         -1.0            -1.0         -1.0   \n",
       "Albumin_max      1.0      -1.0          1.0             1.0          1.0   \n",
       "Albumin_median   1.0      -1.0          1.0             1.0          1.0   \n",
       "Albumin_min      1.0      -1.0          1.0             1.0          1.0   \n",
       "...              ...       ...          ...             ...          ...   \n",
       "trunk_min        1.0      -1.0          1.0             1.0          1.0   \n",
       "trunk_range     -1.0       1.0         -1.0            -1.0         -1.0   \n",
       "Urine.Ph_max    -1.0       1.0         -1.0            -1.0         -1.0   \n",
       "Urine.Ph_median -1.0       1.0         -1.0            -1.0         -1.0   \n",
       "Urine.Ph_min    -1.0       1.0         -1.0            -1.0         -1.0   \n",
       "\n",
       "                 Albumin_range  ALSFRS_slope  ALSFRS_Total_max  \\\n",
       "ID                        -1.0           1.0               1.0   \n",
       "Age_mean                   1.0          -1.0              -1.0   \n",
       "Albumin_max               -1.0           1.0               1.0   \n",
       "Albumin_median            -1.0           1.0               1.0   \n",
       "Albumin_min               -1.0           1.0               1.0   \n",
       "...                        ...           ...               ...   \n",
       "trunk_min                 -1.0           1.0               1.0   \n",
       "trunk_range                1.0          -1.0              -1.0   \n",
       "Urine.Ph_max               1.0          -1.0              -1.0   \n",
       "Urine.Ph_median            1.0          -1.0              -1.0   \n",
       "Urine.Ph_min               1.0          -1.0              -1.0   \n",
       "\n",
       "                 ALSFRS_Total_median  ALSFRS_Total_min  ...  Sodium_min  \\\n",
       "ID                               1.0               1.0  ...        -1.0   \n",
       "Age_mean                        -1.0              -1.0  ...         1.0   \n",
       "Albumin_max                      1.0               1.0  ...        -1.0   \n",
       "Albumin_median                   1.0               1.0  ...        -1.0   \n",
       "Albumin_min                      1.0               1.0  ...        -1.0   \n",
       "...                              ...               ...  ...         ...   \n",
       "trunk_min                        1.0               1.0  ...        -1.0   \n",
       "trunk_range                     -1.0              -1.0  ...         1.0   \n",
       "Urine.Ph_max                    -1.0              -1.0  ...         1.0   \n",
       "Urine.Ph_median                 -1.0              -1.0  ...         1.0   \n",
       "Urine.Ph_min                    -1.0              -1.0  ...         1.0   \n",
       "\n",
       "                 Sodium_range  SubjectID  trunk_max  trunk_median  trunk_min  \\\n",
       "ID                       -1.0        1.0        1.0           1.0        1.0   \n",
       "Age_mean                  1.0       -1.0       -1.0          -1.0       -1.0   \n",
       "Albumin_max              -1.0        1.0        1.0           1.0        1.0   \n",
       "Albumin_median           -1.0        1.0        1.0           1.0        1.0   \n",
       "Albumin_min              -1.0        1.0        1.0           1.0        1.0   \n",
       "...                       ...        ...        ...           ...        ...   \n",
       "trunk_min                -1.0        1.0        1.0           1.0        1.0   \n",
       "trunk_range               1.0       -1.0       -1.0          -1.0       -1.0   \n",
       "Urine.Ph_max              1.0       -1.0       -1.0          -1.0       -1.0   \n",
       "Urine.Ph_median           1.0       -1.0       -1.0          -1.0       -1.0   \n",
       "Urine.Ph_min              1.0       -1.0       -1.0          -1.0       -1.0   \n",
       "\n",
       "                 trunk_range  Urine.Ph_max  Urine.Ph_median  Urine.Ph_min  \n",
       "ID                      -1.0          -1.0             -1.0          -1.0  \n",
       "Age_mean                 1.0           1.0              1.0           1.0  \n",
       "Albumin_max             -1.0          -1.0             -1.0          -1.0  \n",
       "Albumin_median          -1.0          -1.0             -1.0          -1.0  \n",
       "Albumin_min             -1.0          -1.0             -1.0          -1.0  \n",
       "...                      ...           ...              ...           ...  \n",
       "trunk_min               -1.0          -1.0             -1.0          -1.0  \n",
       "trunk_range              1.0           1.0              1.0           1.0  \n",
       "Urine.Ph_max             1.0           1.0              1.0           1.0  \n",
       "Urine.Ph_median          1.0           1.0              1.0           1.0  \n",
       "Urine.Ph_min             1.0           1.0              1.0           1.0  \n",
       "\n",
       "[101 rows x 101 columns]"
      ]
     },
     "execution_count": 24,
     "metadata": {},
     "output_type": "execute_result"
    }
   ],
   "source": [
    "data.corr()"
   ]
  },
  {
   "cell_type": "code",
   "execution_count": 25,
   "metadata": {},
   "outputs": [
    {
     "data": {
      "text/plain": [
       "<matplotlib.axes._subplots.AxesSubplot at 0x171df453970>"
      ]
     },
     "execution_count": 25,
     "metadata": {},
     "output_type": "execute_result"
    },
    {
     "data": {
      "image/png": "[encoded data removed]",
      "text/plain": [
       "<Figure size 432x288 with 2 Axes>"
      ]
     },
     "metadata": {
      "needs_background": "light"
     },
     "output_type": "display_data"
    }
   ],
   "source": [
    "sns.heatmap(data.corr(),cmap= 'plasma')"
   ]
  },
  {
   "cell_type": "code",
   "execution_count": 26,
   "metadata": {},
   "outputs": [
    {
     "data": {
      "text/plain": [
       "array([1, 1, 0, ..., 1, 1, 0])"
      ]
     },
     "execution_count": 26,
     "metadata": {},
     "output_type": "execute_result"
    }
   ],
   "source": [
    "#K-means model:\n",
    "\n",
    "from sklearn.cluster import KMeans\n",
    "clustering = KMeans(n_clusters=2)\n",
    "kpredicted =  clustering.fit_predict(als_dpca)\n",
    "kpredicted"
   ]
  },
  {
   "cell_type": "code",
   "execution_count": 27,
   "metadata": {},
   "outputs": [
    {
     "data": {
      "text/plain": [
       "array([[ 2.78061238,  0.00562229],\n",
       "       [-2.68472919, -0.00542841]])"
      ]
     },
     "execution_count": 27,
     "metadata": {},
     "output_type": "execute_result"
    }
   ],
   "source": [
    "clustering.cluster_centers_"
   ]
  },
  {
   "cell_type": "code",
   "execution_count": 28,
   "metadata": {},
   "outputs": [
    {
     "name": "stderr",
     "output_type": "stream",
     "text": [
      "No handles with labels found to put in legend.\n"
     ]
    },
    {
     "data": {
      "text/plain": [
       "<matplotlib.legend.Legend at 0x171e0c1e3d0>"
      ]
     },
     "execution_count": 28,
     "metadata": {},
     "output_type": "execute_result"
    },
    {
     "data": {
      "image/png": "[encoded data removed]",
      "text/plain": [
       "<Figure size 432x288 with 1 Axes>"
      ]
     },
     "metadata": {
      "needs_background": "light"
     },
     "output_type": "display_data"
    }
   ],
   "source": [
    "plot.scatter(als_dpca[:,1],als_dpca[:,0],c=clustering.labels_)\n",
    "plot.scatter(clustering.cluster_centers_[:,1],clustering.cluster_centers_[:,0],color='red', marker='*')\n",
    "plot.xlabel('ALS_xdata')\n",
    "plot.ylabel('ALS_ydata')\n",
    "plot.legend()"
   ]
  },
  {
   "cell_type": "code",
   "execution_count": 29,
   "metadata": {},
   "outputs": [
    {
     "data": {
      "text/plain": [
       "array([0, 0, 2, ..., 1, 1, 1])"
      ]
     },
     "execution_count": 29,
     "metadata": {},
     "output_type": "execute_result"
    }
   ],
   "source": [
    "#kmeans for 5 clusters\n",
    "from sklearn.cluster import KMeans\n",
    "clustering = KMeans(n_clusters=5)\n",
    "kpredicted = clustering.fit_predict(als_dpca)\n",
    "kpredicted"
   ]
  },
  {
   "cell_type": "code",
   "execution_count": 30,
   "metadata": {},
   "outputs": [
    {
     "data": {
      "text/plain": [
       "array([0, 0, 2, ..., 1, 1, 1])"
      ]
     },
     "execution_count": 30,
     "metadata": {},
     "output_type": "execute_result"
    }
   ],
   "source": [
    "clustering.labels_"
   ]
  },
  {
   "cell_type": "code",
   "execution_count": 31,
   "metadata": {},
   "outputs": [
    {
     "data": {
      "text/plain": [
       "array([[-2.1114984 , -1.96591579],\n",
       "       [ 0.42726118,  2.25101278],\n",
       "       [ 2.22023114, -2.25017051],\n",
       "       [ 5.19084098,  0.92797368],\n",
       "       [-4.37663892,  1.14625603]])"
      ]
     },
     "execution_count": 31,
     "metadata": {},
     "output_type": "execute_result"
    }
   ],
   "source": [
    "clustering.cluster_centers_"
   ]
  },
  {
   "cell_type": "code",
   "execution_count": 32,
   "metadata": {},
   "outputs": [
    {
     "name": "stderr",
     "output_type": "stream",
     "text": [
      "No handles with labels found to put in legend.\n"
     ]
    },
    {
     "data": {
      "text/plain": [
       "<matplotlib.legend.Legend at 0x171e0c8cf10>"
      ]
     },
     "execution_count": 32,
     "metadata": {},
     "output_type": "execute_result"
    },
    {
     "data": {
      "image/png": "[encoded data removed]",
      "text/plain": [
       "<Figure size 432x288 with 1 Axes>"
      ]
     },
     "metadata": {
      "needs_background": "light"
     },
     "output_type": "display_data"
    }
   ],
   "source": [
    "plot.scatter(als_dpca[:,1],als_dpca[:,0],c=clustering.labels_)\n",
    "plot.scatter(clustering.cluster_centers_[:,1],clustering.cluster_centers_[:,0],color='red',marker='*')\n",
    "plot.xlabel('ALS_xdata')\n",
    "plot.ylabel('ALS_ydata')\n",
    "plot.legend()"
   ]
  },
  {
   "cell_type": "code",
   "execution_count": 33,
   "metadata": {},
   "outputs": [
    {
     "data": {
      "text/plain": [
       "array([7, 7, 1, ..., 3, 3, 1])"
      ]
     },
     "execution_count": 33,
     "metadata": {},
     "output_type": "execute_result"
    }
   ],
   "source": [
    "from sklearn.cluster import KMeans\n",
    "clustering = KMeans(n_clusters=10)\n",
    "kpredicted = clustering.fit_predict(als_dpca)\n",
    "kpredicted"
   ]
  },
  {
   "cell_type": "code",
   "execution_count": 67,
   "metadata": {},
   "outputs": [
    {
     "data": {
      "text/plain": [
       "array([[ 1.70258957, -2.83355082],\n",
       "       [-3.81716534,  2.55084472],\n",
       "       [ 5.6212205 ,  6.59070452],\n",
       "       [ 5.53842406, -2.02934423],\n",
       "       [ 1.53185863,  0.38191102],\n",
       "       [-1.4950142 , -0.20137904],\n",
       "       [-4.92528728, -0.5787853 ],\n",
       "       [ 4.51438222,  1.52460014],\n",
       "       [-2.05874109, -3.45052044],\n",
       "       [ 0.19067418,  3.27335314]])"
      ]
     },
     "execution_count": 67,
     "metadata": {},
     "output_type": "execute_result"
    }
   ],
   "source": [
    "clustering.cluster_centers_"
   ]
  },
  {
   "cell_type": "code",
   "execution_count": 68,
   "metadata": {},
   "outputs": [
    {
     "name": "stderr",
     "output_type": "stream",
     "text": [
      "No handles with labels found to put in legend.\n"
     ]
    },
    {
     "data": {
      "text/plain": [
       "<matplotlib.legend.Legend at 0x2968beea940>"
      ]
     },
     "execution_count": 68,
     "metadata": {},
     "output_type": "execute_result"
    },
    {
     "data": {
      "image/png": "[encoded data removed]",
      "text/plain": [
       "<Figure size 432x288 with 1 Axes>"
      ]
     },
     "metadata": {
      "needs_background": "light"
     },
     "output_type": "display_data"
    }
   ],
   "source": [
    "plot.scatter(als_dpca[:,1],als_dpca[:,0],c=clustering.labels_)\n",
    "plot.scatter(clustering.cluster_centers_[:,1],clustering.cluster_centers_[:,0],color='red',marker='*')\n",
    "plot.xlabel('ALS_xdata')\n",
    "plot.ylabel('ALS_ydata')\n",
    "plot.legend()"
   ]
  },
  {
   "cell_type": "code",
   "execution_count": 34,
   "metadata": {},
   "outputs": [
    {
     "data": {
      "text/plain": [
       "[186773153292109.16,\n",
       " 46007309041462.4,\n",
       " 20529618202538.543,\n",
       " 11294597442102.178,\n",
       " 7387712240130.627,\n",
       " 5234097367056.399,\n",
       " 3717490287232.873,\n",
       " 2820746461903.0103,\n",
       " 2280522015249.209]"
      ]
     },
     "execution_count": 34,
     "metadata": {},
     "output_type": "execute_result"
    }
   ],
   "source": [
    "kmean_rang=range(1,10)\n",
    "res=[]\n",
    "for k in kmean_rang:\n",
    "    clustering = KMeans(n_clusters=k)\n",
    "    clustering.fit(als_trd)\n",
    "    res.append(clustering.inertia_)\n",
    "res"
   ]
  },
  {
   "cell_type": "code",
   "execution_count": 35,
   "metadata": {},
   "outputs": [
    {
     "data": {
      "text/plain": [
       "[<matplotlib.lines.Line2D at 0x171e1343400>]"
      ]
     },
     "execution_count": 35,
     "metadata": {},
     "output_type": "execute_result"
    },
    {
     "data": {
      "image/png": "[encoded data removed]",
      "text/plain": [
       "<Figure size 432x288 with 1 Axes>"
      ]
     },
     "metadata": {
      "needs_background": "light"
     },
     "output_type": "display_data"
    }
   ],
   "source": [
    "plot.xlabel('K-values')\n",
    "plot.ylabel('sum of squared errors list')\n",
    "plot.title(\"Best k value\")\n",
    "plot.plot(kmean_rang, res)"
   ]
  },
  {
   "cell_type": "code",
   "execution_count": null,
   "metadata": {},
   "outputs": [],
   "source": []
  }
 ],
 "metadata": {
  "kernelspec": {
   "display_name": "Python 3",
   "language": "python",
   "name": "python3"
  },
  "language_info": {
   "codemirror_mode": {
    "name": "ipython",
    "version": 3
   },
   "file_extension": ".py",
   "mimetype": "text/x-python",
   "name": "python",
   "nbconvert_exporter": "python",
   "pygments_lexer": "ipython3",
   "version": "3.8.3"
  }
 },
 "nbformat": 4,
 "nbformat_minor": 4
}
